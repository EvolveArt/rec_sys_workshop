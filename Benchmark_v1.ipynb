{
 "cells": [
  {
   "cell_type": "markdown",
   "metadata": {
    "toc-hr-collapsed": false
   },
   "source": [
    "# Benchmark des algorithmes de recommendation v1\n",
    "---"
   ]
  },
  {
   "cell_type": "markdown",
   "metadata": {},
   "source": [
    "Dans ce premier **Benchmark** on s'intéressera aux modèles suivants :\n",
    "- Filtrage collaboratif : item-based neighborhood\n",
    "- Filtrage collaboratif : Matrix Factorization (SVD/Funk SVD, SGD/ALS)\n",
    "- Algorithmes LTR : Bayesian Personnalized Ranking\n",
    "- Neural Collaborative Filtering"
   ]
  },
  {
   "cell_type": "markdown",
   "metadata": {},
   "source": [
    "*Le code source peut être trouvé dans le dossier src*"
   ]
  },
  {
   "cell_type": "markdown",
   "metadata": {},
   "source": [
    "Il est important de noter que les différents algorithmes évalués ici sont très sensibles au probléme de **cold-start** (nouveaux utilisateurs, items).                    \n",
    "Ce problème ne sera pas traité ici; les données seront donc filtrées afin de ne s'intéresser qu'aux utilisateurs/items ayant eu une activité passée."
   ]
  },
  {
   "cell_type": "markdown",
   "metadata": {},
   "source": [
    "## Preprocessing"
   ]
  },
  {
   "cell_type": "code",
   "execution_count": 2,
   "metadata": {},
   "outputs": [],
   "source": [
    "import sys\n",
    "sys.path.append('../src')"
   ]
  },
  {
   "cell_type": "code",
   "execution_count": 1,
   "metadata": {},
   "outputs": [],
   "source": [
    "import numpy as np\n",
    "import scipy\n",
    "import pandas as pd\n",
    "import math\n",
    "import random\n",
    "import sklearn\n",
    "from sklearn.model_selection import train_test_split\n",
    "import matplotlib.pyplot as plt"
   ]
  },
  {
   "cell_type": "code",
   "execution_count": 3,
   "metadata": {},
   "outputs": [],
   "source": [
    "# (Users, Items) -> Ratings DataFrame\n",
    "DEBUG_SIZE = 5000, 500\n",
    "PRODUCTION_SIZE = 20000, 5000"
   ]
  },
  {
   "cell_type": "code",
   "execution_count": 4,
   "metadata": {},
   "outputs": [],
   "source": [
    "df_ratings = pd.read_csv('../Datasets/dataset/ydata-ymusic-user-artist-ratings-v1_0.txt', sep='\\t',header=None, encoding=\"ISO-8859-1\", names=['user_id', 'artist_id','ratings'])"
   ]
  },
  {
   "cell_type": "code",
   "execution_count": 74,
   "metadata": {},
   "outputs": [],
   "source": [
    "df_lookup = pd.read_csv('../Datasets/dataset/ydata-ymusic-artist-names-v1_0.txt', sep='\\t',header=None, encoding=\"ISO-8859-1\", names=['artist_id', 'artist_name'])"
   ]
  },
  {
   "cell_type": "code",
   "execution_count": 5,
   "metadata": {},
   "outputs": [
    {
     "data": {
      "text/html": [
       "<div>\n",
       "<style scoped>\n",
       "    .dataframe tbody tr th:only-of-type {\n",
       "        vertical-align: middle;\n",
       "    }\n",
       "\n",
       "    .dataframe tbody tr th {\n",
       "        vertical-align: top;\n",
       "    }\n",
       "\n",
       "    .dataframe thead th {\n",
       "        text-align: right;\n",
       "    }\n",
       "</style>\n",
       "<table border=\"1\" class=\"dataframe\">\n",
       "  <thead>\n",
       "    <tr style=\"text-align: right;\">\n",
       "      <th></th>\n",
       "      <th>user_id</th>\n",
       "      <th>artist_id</th>\n",
       "      <th>ratings</th>\n",
       "    </tr>\n",
       "  </thead>\n",
       "  <tbody>\n",
       "    <tr>\n",
       "      <th>0</th>\n",
       "      <td>1</td>\n",
       "      <td>1000125</td>\n",
       "      <td>90</td>\n",
       "    </tr>\n",
       "    <tr>\n",
       "      <th>1</th>\n",
       "      <td>1</td>\n",
       "      <td>1006373</td>\n",
       "      <td>100</td>\n",
       "    </tr>\n",
       "    <tr>\n",
       "      <th>2</th>\n",
       "      <td>1</td>\n",
       "      <td>1006978</td>\n",
       "      <td>90</td>\n",
       "    </tr>\n",
       "    <tr>\n",
       "      <th>3</th>\n",
       "      <td>1</td>\n",
       "      <td>1007035</td>\n",
       "      <td>100</td>\n",
       "    </tr>\n",
       "    <tr>\n",
       "      <th>4</th>\n",
       "      <td>1</td>\n",
       "      <td>1007098</td>\n",
       "      <td>100</td>\n",
       "    </tr>\n",
       "  </tbody>\n",
       "</table>\n",
       "</div>"
      ],
      "text/plain": [
       "   user_id  artist_id  ratings\n",
       "0        1    1000125       90\n",
       "1        1    1006373      100\n",
       "2        1    1006978       90\n",
       "3        1    1007035      100\n",
       "4        1    1007098      100"
      ]
     },
     "execution_count": 5,
     "metadata": {},
     "output_type": "execute_result"
    }
   ],
   "source": [
    "df_ratings.head()"
   ]
  },
  {
   "cell_type": "code",
   "execution_count": 7,
   "metadata": {},
   "outputs": [],
   "source": [
    "df_ratings.replace(0, np.nan, inplace=True)\n",
    "df_ratings.replace(255, 0, inplace=True)"
   ]
  },
  {
   "cell_type": "code",
   "execution_count": 8,
   "metadata": {},
   "outputs": [],
   "source": [
    "df_artists = df_ratings.groupby('artist_id').count().sort_values(by='ratings', ascending=False)\n",
    "artists_pop = df_artists.head(DEBUG_SIZE[1]).reset_index()['artist_id'].tolist()"
   ]
  },
  {
   "cell_type": "code",
   "execution_count": 9,
   "metadata": {},
   "outputs": [],
   "source": [
    "user_cf = df_ratings.groupby('user_id').count().reset_index().sort_values(by='ratings', ascending=False).head(DEBUG_SIZE[0])['user_id'].tolist()"
   ]
  },
  {
   "cell_type": "code",
   "execution_count": 10,
   "metadata": {},
   "outputs": [
    {
     "data": {
      "text/plain": [
       "(5000, 500)"
      ]
     },
     "execution_count": 10,
     "metadata": {},
     "output_type": "execute_result"
    }
   ],
   "source": [
    "len(user_cf), len(artists_pop)"
   ]
  },
  {
   "cell_type": "code",
   "execution_count": 11,
   "metadata": {},
   "outputs": [],
   "source": [
    "df_ratings_cf = df_ratings.loc[df_ratings['artist_id'].isin(artists_pop)]"
   ]
  },
  {
   "cell_type": "code",
   "execution_count": 12,
   "metadata": {},
   "outputs": [],
   "source": [
    "df_ratings_cf = df_ratings_cf.loc[df_ratings['user_id'].isin(user_cf)]"
   ]
  },
  {
   "cell_type": "code",
   "execution_count": 13,
   "metadata": {},
   "outputs": [
    {
     "data": {
      "text/plain": [
       "(500, 5000)"
      ]
     },
     "execution_count": 13,
     "metadata": {},
     "output_type": "execute_result"
    }
   ],
   "source": [
    "total_items = df_ratings_cf[\"artist_id\"].nunique()\n",
    "total_users = df_ratings_cf['user_id'].nunique()\n",
    "total_items, total_users"
   ]
  },
  {
   "cell_type": "code",
   "execution_count": 14,
   "metadata": {},
   "outputs": [],
   "source": [
    "train_df, test_df = train_test_split(df_ratings_cf,\n",
    "                                   test_size=0.20,\n",
    "                                   shuffle=True,\n",
    "                                   random_state=42)"
   ]
  },
  {
   "cell_type": "code",
   "execution_count": 15,
   "metadata": {},
   "outputs": [
    {
     "data": {
      "text/html": [
       "<div>\n",
       "<style scoped>\n",
       "    .dataframe tbody tr th:only-of-type {\n",
       "        vertical-align: middle;\n",
       "    }\n",
       "\n",
       "    .dataframe tbody tr th {\n",
       "        vertical-align: top;\n",
       "    }\n",
       "\n",
       "    .dataframe thead th {\n",
       "        text-align: right;\n",
       "    }\n",
       "</style>\n",
       "<table border=\"1\" class=\"dataframe\">\n",
       "  <thead>\n",
       "    <tr style=\"text-align: right;\">\n",
       "      <th></th>\n",
       "      <th>user_id</th>\n",
       "      <th>artist_id</th>\n",
       "      <th>ratings</th>\n",
       "    </tr>\n",
       "  </thead>\n",
       "  <tbody>\n",
       "    <tr>\n",
       "      <th>29614817</th>\n",
       "      <td>498068</td>\n",
       "      <td>1001925</td>\n",
       "      <td>87.0</td>\n",
       "    </tr>\n",
       "    <tr>\n",
       "      <th>87044977</th>\n",
       "      <td>1465888</td>\n",
       "      <td>1015424</td>\n",
       "      <td>NaN</td>\n",
       "    </tr>\n",
       "    <tr>\n",
       "      <th>1718837</th>\n",
       "      <td>28640</td>\n",
       "      <td>1027263</td>\n",
       "      <td>100.0</td>\n",
       "    </tr>\n",
       "    <tr>\n",
       "      <th>73381208</th>\n",
       "      <td>1233790</td>\n",
       "      <td>1012903</td>\n",
       "      <td>50.0</td>\n",
       "    </tr>\n",
       "    <tr>\n",
       "      <th>78053062</th>\n",
       "      <td>1312829</td>\n",
       "      <td>1031703</td>\n",
       "      <td>NaN</td>\n",
       "    </tr>\n",
       "  </tbody>\n",
       "</table>\n",
       "</div>"
      ],
      "text/plain": [
       "          user_id  artist_id  ratings\n",
       "29614817   498068    1001925     87.0\n",
       "87044977  1465888    1015424      NaN\n",
       "1718837     28640    1027263    100.0\n",
       "73381208  1233790    1012903     50.0\n",
       "78053062  1312829    1031703      NaN"
      ]
     },
     "execution_count": 15,
     "metadata": {},
     "output_type": "execute_result"
    }
   ],
   "source": [
    "train_df.head()"
   ]
  },
  {
   "cell_type": "code",
   "execution_count": 16,
   "metadata": {},
   "outputs": [
    {
     "data": {
      "text/plain": [
       "(1315098, 3)"
      ]
     },
     "execution_count": 16,
     "metadata": {},
     "output_type": "execute_result"
    }
   ],
   "source": [
    "train_df.shape"
   ]
  },
  {
   "cell_type": "markdown",
   "metadata": {},
   "source": [
    "## Baseline : Popularity Recommender\n"
   ]
  },
  {
   "cell_type": "code",
   "execution_count": 17,
   "metadata": {},
   "outputs": [],
   "source": [
    "%load_ext autoreload"
   ]
  },
  {
   "cell_type": "code",
   "execution_count": 18,
   "metadata": {},
   "outputs": [],
   "source": [
    "%autoreload 2"
   ]
  },
  {
   "cell_type": "code",
   "execution_count": 19,
   "metadata": {},
   "outputs": [],
   "source": [
    "from Popularity import PopularityRecommender\n",
    "\n",
    "recsys_ = PopularityRecommender('user_id', 'artist_id', df_lookup=df_lookup)\n",
    "recsys_.fit(df_ratings_cf)"
   ]
  },
  {
   "cell_type": "code",
   "execution_count": 20,
   "metadata": {},
   "outputs": [
    {
     "data": {
      "text/html": [
       "<div>\n",
       "<style scoped>\n",
       "    .dataframe tbody tr th:only-of-type {\n",
       "        vertical-align: middle;\n",
       "    }\n",
       "\n",
       "    .dataframe tbody tr th {\n",
       "        vertical-align: top;\n",
       "    }\n",
       "\n",
       "    .dataframe thead th {\n",
       "        text-align: right;\n",
       "    }\n",
       "</style>\n",
       "<table border=\"1\" class=\"dataframe\">\n",
       "  <thead>\n",
       "    <tr style=\"text-align: right;\">\n",
       "      <th></th>\n",
       "      <th>user_id</th>\n",
       "      <th>artist_id</th>\n",
       "      <th>score</th>\n",
       "      <th>Rank</th>\n",
       "      <th>artist_name</th>\n",
       "    </tr>\n",
       "  </thead>\n",
       "  <tbody>\n",
       "    <tr>\n",
       "      <th>0</th>\n",
       "      <td>20</td>\n",
       "      <td>1022226</td>\n",
       "      <td>4866</td>\n",
       "      <td>1.0</td>\n",
       "      <td>Red Hot Chili Peppers</td>\n",
       "    </tr>\n",
       "    <tr>\n",
       "      <th>1</th>\n",
       "      <td>20</td>\n",
       "      <td>1021815</td>\n",
       "      <td>4849</td>\n",
       "      <td>2.0</td>\n",
       "      <td>Queen</td>\n",
       "    </tr>\n",
       "    <tr>\n",
       "      <th>2</th>\n",
       "      <td>20</td>\n",
       "      <td>1008023</td>\n",
       "      <td>4813</td>\n",
       "      <td>3.0</td>\n",
       "      <td>Eagles</td>\n",
       "    </tr>\n",
       "    <tr>\n",
       "      <th>3</th>\n",
       "      <td>20</td>\n",
       "      <td>1027798</td>\n",
       "      <td>4802</td>\n",
       "      <td>4.0</td>\n",
       "      <td>U2</td>\n",
       "    </tr>\n",
       "    <tr>\n",
       "      <th>4</th>\n",
       "      <td>20</td>\n",
       "      <td>1016600</td>\n",
       "      <td>4793</td>\n",
       "      <td>5.0</td>\n",
       "      <td>Madonna</td>\n",
       "    </tr>\n",
       "    <tr>\n",
       "      <th>5</th>\n",
       "      <td>20</td>\n",
       "      <td>1021869</td>\n",
       "      <td>4793</td>\n",
       "      <td>6.0</td>\n",
       "      <td>R.E.M.</td>\n",
       "    </tr>\n",
       "    <tr>\n",
       "      <th>6</th>\n",
       "      <td>20</td>\n",
       "      <td>1053507</td>\n",
       "      <td>4782</td>\n",
       "      <td>7.0</td>\n",
       "      <td>Linkin Park</td>\n",
       "    </tr>\n",
       "    <tr>\n",
       "      <th>7</th>\n",
       "      <td>20</td>\n",
       "      <td>1015272</td>\n",
       "      <td>4776</td>\n",
       "      <td>8.0</td>\n",
       "      <td>Led Zeppelin</td>\n",
       "    </tr>\n",
       "    <tr>\n",
       "      <th>8</th>\n",
       "      <td>20</td>\n",
       "      <td>1017240</td>\n",
       "      <td>4768</td>\n",
       "      <td>9.0</td>\n",
       "      <td>Matchbox Twenty</td>\n",
       "    </tr>\n",
       "    <tr>\n",
       "      <th>9</th>\n",
       "      <td>20</td>\n",
       "      <td>1010787</td>\n",
       "      <td>4765</td>\n",
       "      <td>10.0</td>\n",
       "      <td>Green Day</td>\n",
       "    </tr>\n",
       "  </tbody>\n",
       "</table>\n",
       "</div>"
      ],
      "text/plain": [
       "   user_id  artist_id  score  Rank            artist_name\n",
       "0       20    1022226   4866   1.0  Red Hot Chili Peppers\n",
       "1       20    1021815   4849   2.0                  Queen\n",
       "2       20    1008023   4813   3.0                 Eagles\n",
       "3       20    1027798   4802   4.0                     U2\n",
       "4       20    1016600   4793   5.0                Madonna\n",
       "5       20    1021869   4793   6.0                 R.E.M.\n",
       "6       20    1053507   4782   7.0            Linkin Park\n",
       "7       20    1015272   4776   8.0           Led Zeppelin\n",
       "8       20    1017240   4768   9.0        Matchbox Twenty\n",
       "9       20    1010787   4765  10.0              Green Day"
      ]
     },
     "execution_count": 20,
     "metadata": {},
     "output_type": "execute_result"
    }
   ],
   "source": [
    "recsys_.recommend(20)"
   ]
  },
  {
   "cell_type": "markdown",
   "metadata": {},
   "source": [
    "## Filtrage collaboratif : item-based neighborhood\n"
   ]
  },
  {
   "cell_type": "markdown",
   "metadata": {},
   "source": [
    "Algorithme *Amazon* :\n",
    " * Pour chaque item I1 :                                           \n",
    "   + Pour chaque user C ayant intéragi avec I1 :                                                   \n",
    "       + Pour chaque item I2 de C:                                                      \n",
    "           + Sauvegarder [I1, I2]                                                      \n",
    "       + Pour chaque item I2:                                                         \n",
    "           + Calculer Sim(I1, I20)                                                            \n",
    "\n",
    "La fonction de similarité choisie est cos() pour sa stabilité et son efficacité.                                           \n",
    "Les notes explicites doivent être normalisées en soustrayant la moyenne des notes de l'utilisateur (ou la moyenne des notes de l'item)\n",
    "\n",
    "Enfin on calcule une prédiction des notes par la formule :                        \n",
    "\n",
    "![Imgur](https://i.imgur.com/ELcXOvD.png)                                 "
   ]
  },
  {
   "cell_type": "code",
   "execution_count": 21,
   "metadata": {},
   "outputs": [],
   "source": [
    "from ItemCF import ItemCFRecommender\n",
    "\n",
    "recsys_itemcf = ItemCFRecommender(train_df, item_col='artist_id', load_sim_matrix=False)"
   ]
  },
  {
   "cell_type": "code",
   "execution_count": 22,
   "metadata": {},
   "outputs": [],
   "source": [
    "# Algorithme naif trop lent, on prefera utiliser la librairie scikit-surprise\n",
    "# recsys_itemcf.recommend(20)"
   ]
  },
  {
   "cell_type": "markdown",
   "metadata": {},
   "source": [
    "Utilisation de surprise (http://surpriselib.com/) Algorithme : KNNwithMeans\n"
   ]
  },
  {
   "cell_type": "code",
   "execution_count": 23,
   "metadata": {},
   "outputs": [
    {
     "name": "stdout",
     "output_type": "stream",
     "text": [
      "Computing the msd similarity matrix...\n",
      "Done computing similarity matrix.\n",
      "Computing the msd similarity matrix...\n",
      "Done computing similarity matrix.\n",
      "Computing the msd similarity matrix...\n",
      "Done computing similarity matrix.\n",
      "Computing the msd similarity matrix...\n",
      "Done computing similarity matrix.\n",
      "Computing the msd similarity matrix...\n",
      "Done computing similarity matrix.\n",
      "Evaluating RMSE, MAE of algorithm KNNWithMeans on 5 split(s).\n",
      "\n",
      "                  Fold 1  Fold 2  Fold 3  Fold 4  Fold 5  Mean    Std     \n",
      "RMSE (testset)    21.7856 21.7352 21.7920 21.8087 21.8102 21.7864 0.0273  \n",
      "MAE (testset)     17.0125 16.9888 17.0245 17.0290 17.0502 17.0210 0.0202  \n",
      "Fit time          258.19  234.91  237.50  236.60  233.28  240.10  9.16    \n",
      "Test time         432.75  435.18  465.91  492.59  466.13  458.51  22.28   \n"
     ]
    },
    {
     "data": {
      "text/plain": [
       "{'test_rmse': array([21.78564957, 21.73515604, 21.79203133, 21.8087461 , 21.81023902]),\n",
       " 'test_mae': array([17.01249169, 16.98877092, 17.02453125, 17.02896947, 17.05023754]),\n",
       " 'fit_time': (258.1892161369324,\n",
       "  234.9132616519928,\n",
       "  237.49816632270813,\n",
       "  236.60197138786316,\n",
       "  233.27565050125122),\n",
       " 'test_time': (432.7506802082062,\n",
       "  435.18238282203674,\n",
       "  465.9146683216095,\n",
       "  492.58912110328674,\n",
       "  466.1335551738739)}"
      ]
     },
     "execution_count": 23,
     "metadata": {},
     "output_type": "execute_result"
    }
   ],
   "source": [
    "from surprise import Reader\n",
    "from surprise import KNNWithMeans\n",
    "from surprise.model_selection import cross_validate\n",
    "from surprise import Dataset\n",
    "\n",
    "reader = Reader(rating_scale=(0, 100))\n",
    "\n",
    "train_df_2 = train_df.copy().dropna()\n",
    "\n",
    "data = Dataset.load_from_df(train_df_2[['user_id', 'artist_id', 'ratings']], reader)\n",
    "\n",
    "algo = KNNWithMeans()\n",
    "\n",
    "cross_validate(algo, data, measures=['RMSE', 'MAE'], cv=5, verbose=True)"
   ]
  },
  {
   "cell_type": "markdown",
   "metadata": {},
   "source": [
    "## Filtrage collaboratif : Matrix Factorization"
   ]
  },
  {
   "cell_type": "code",
   "execution_count": 24,
   "metadata": {},
   "outputs": [],
   "source": [
    "from CF_SVD import SVDRecommender\n",
    "\n",
    "recsys_svd = SVDRecommender(train_df, 0.001, 25, itemCol='artist_id')"
   ]
  },
  {
   "cell_type": "code",
   "execution_count": 25,
   "metadata": {},
   "outputs": [
    {
     "name": "stdout",
     "output_type": "stream",
     "text": [
      "Preprocessing data...\n",
      "\n",
      "Epoch 1/100  |took 1.8 sec\n",
      "Epoch 2/100  | took 0.6 sec\n",
      "Epoch 3/100  |took 0.6 sec\n",
      "Epoch 4/100  | took 0.6 sec\n",
      "Epoch 5/100  | took 0.6 sec\n",
      "Epoch 6/100  | took 0.6 sec\n",
      "Epoch 7/100  | took 0.6 sec\n",
      "Epoch 8/100  |took 0.6 sec\n",
      "Epoch 9/100  | took 0.6 sec\n",
      "Epoch 10/100 | took 0.6 sec\n",
      "Epoch 11/100 | took 0.6 sec\n",
      "Epoch 12/100 |took 0.6 sec\n",
      "Epoch 13/100 | took 0.6 sec\n",
      "Epoch 14/100 | took 0.6 sec\n",
      "Epoch 15/100 |took 0.6 sec\n",
      "Epoch 16/100 | took 0.6 sec\n",
      "Epoch 17/100 | took 0.6 sec\n",
      "Epoch 18/100 | took 0.6 sec\n",
      "Epoch 19/100 | took 0.6 sec\n",
      "Epoch 20/100 |took 0.6 sec\n",
      "Epoch 21/100 | took 0.6 sec\n",
      "Epoch 22/100 | took 0.6 sec\n",
      "Epoch 23/100 | took 0.6 sec\n",
      "Epoch 24/100 |took 0.6 sec\n",
      "Epoch 25/100 | took 0.6 sec\n",
      "Epoch 26/100 | took 0.6 sec\n",
      "Epoch 27/100 | took 0.6 sec\n",
      "Epoch 28/100 | took 0.6 sec\n",
      "Epoch 29/100 |took 0.6 sec\n",
      "Epoch 30/100 | took 0.6 sec\n",
      "Epoch 31/100 | took 0.7 sec\n",
      "Epoch 32/100 | took 0.6 sec\n",
      "Epoch 33/100 |took 0.6 sec\n",
      "Epoch 34/100 | took 0.6 sec\n",
      "Epoch 35/100 | took 0.6 sec\n",
      "Epoch 36/100 | took 0.6 sec\n",
      "Epoch 37/100 |took 0.7 sec\n",
      "Epoch 38/100 | took 0.6 sec\n",
      "Epoch 39/100 | took 0.6 sec\n",
      "Epoch 40/100 | took 0.6 sec\n",
      "Epoch 41/100 |took 0.6 sec\n",
      "Epoch 42/100 | took 0.6 sec\n",
      "Epoch 43/100 | took 0.6 sec\n",
      "Epoch 44/100 | took 0.6 sec\n",
      "Epoch 45/100 |took 0.6 sec\n",
      "Epoch 46/100 |took 0.6 sec\n",
      "Epoch 47/100 | took 0.6 sec\n",
      "Epoch 48/100 | took 0.6 sec\n",
      "Epoch 49/100 | took 0.6 sec\n",
      "Epoch 50/100 |took 0.6 sec\n",
      "Epoch 51/100 | took 0.6 sec\n",
      "Epoch 52/100 |took 0.6 sec\n",
      "Epoch 53/100 | took 0.6 sec\n",
      "Epoch 54/100 | took 0.6 sec\n",
      "Epoch 55/100 | took 0.6 sec\n",
      "Epoch 56/100 | took 0.6 sec\n",
      "Epoch 57/100 |took 0.6 sec\n",
      "Epoch 58/100 | took 0.6 sec\n",
      "Epoch 59/100 | took 0.6 sec\n",
      "Epoch 60/100 | took 0.6 sec\n",
      "Epoch 61/100 | took 0.6 sec\n",
      "Epoch 62/100 |took 0.6 sec\n",
      "Epoch 63/100 |took 0.6 sec\n",
      "Epoch 64/100 | took 0.6 sec\n",
      "Epoch 65/100 | took 0.6 sec\n",
      "Epoch 66/100 | took 0.6 sec\n",
      "Epoch 67/100 |took 0.6 sec\n",
      "Epoch 68/100 |took 0.6 sec\n",
      "Epoch 69/100 | took 0.6 sec\n",
      "Epoch 70/100 | took 0.6 sec\n",
      "Epoch 71/100 | took 0.6 sec\n",
      "Epoch 72/100 | took 0.6 sec\n",
      "Epoch 73/100 |took 0.7 sec\n",
      "Epoch 74/100 | took 0.6 sec\n",
      "Epoch 75/100 | took 0.6 sec\n",
      "Epoch 76/100 | took 0.6 sec\n",
      "Epoch 77/100 | took 0.6 sec\n",
      "Epoch 78/100 |took 0.6 sec\n",
      "Epoch 79/100 | took 0.6 sec\n",
      "Epoch 80/100 |took 0.6 sec\n",
      "Epoch 81/100 |took 0.6 sec\n",
      "Epoch 82/100 | took 0.6 sec\n",
      "Epoch 83/100 | took 0.6 sec\n",
      "Epoch 84/100 | took 0.6 sec\n",
      "Epoch 85/100 | took 0.6 sec\n",
      "Epoch 86/100 |took 0.6 sec\n",
      "Epoch 87/100 | took 0.6 sec\n",
      "Epoch 88/100 | took 0.6 sec\n",
      "Epoch 89/100 | took 0.6 sec\n",
      "Epoch 90/100 | took 0.6 sec\n",
      "Epoch 91/100 |took 0.6 sec\n",
      "Epoch 92/100 | took 0.6 sec\n",
      "Epoch 93/100 | took 0.6 sec\n",
      "Epoch 94/100 | took 0.6 sec\n",
      "Epoch 95/100 | took 0.6 sec\n",
      "Epoch 96/100 |took 0.6 sec\n",
      "Epoch 97/100 | took 0.6 sec\n",
      "Epoch 98/100 | took 0.6 sec\n",
      "Epoch 99/100 | took 0.6 sec\n",
      "Epoch 100/100 | took 0.6 sec\n",
      "\n",
      "Training took 1 min and 1 sec\n"
     ]
    }
   ],
   "source": [
    "recsys_svd.train__SGD()"
   ]
  },
  {
   "cell_type": "code",
   "execution_count": 26,
   "metadata": {},
   "outputs": [
    {
     "name": "stdout",
     "output_type": "stream",
     "text": [
      "Metrics on test set for funkSVD model : \n",
      " RMSE=24.68 \n",
      " MAE=18.95\n"
     ]
    }
   ],
   "source": [
    "recsys_svd.evaluate__SGD(test_df)"
   ]
  },
  {
   "cell_type": "code",
   "execution_count": 27,
   "metadata": {},
   "outputs": [],
   "source": [
    "user_recs = recsys_svd.recommend__SGD(527421)"
   ]
  },
  {
   "cell_type": "code",
   "execution_count": 28,
   "metadata": {},
   "outputs": [
    {
     "data": {
      "text/html": [
       "<div>\n",
       "<style scoped>\n",
       "    .dataframe tbody tr th:only-of-type {\n",
       "        vertical-align: middle;\n",
       "    }\n",
       "\n",
       "    .dataframe tbody tr th {\n",
       "        vertical-align: top;\n",
       "    }\n",
       "\n",
       "    .dataframe thead th {\n",
       "        text-align: right;\n",
       "    }\n",
       "</style>\n",
       "<table border=\"1\" class=\"dataframe\">\n",
       "  <thead>\n",
       "    <tr style=\"text-align: right;\">\n",
       "      <th></th>\n",
       "      <th>artist_id</th>\n",
       "      <th>0</th>\n",
       "      <th>artist_name</th>\n",
       "    </tr>\n",
       "  </thead>\n",
       "  <tbody>\n",
       "    <tr>\n",
       "      <th>0</th>\n",
       "      <td>1021300</td>\n",
       "      <td>100.000000</td>\n",
       "      <td>The Police</td>\n",
       "    </tr>\n",
       "    <tr>\n",
       "      <th>1</th>\n",
       "      <td>1020036</td>\n",
       "      <td>100.000000</td>\n",
       "      <td>Orbital</td>\n",
       "    </tr>\n",
       "    <tr>\n",
       "      <th>2</th>\n",
       "      <td>1004095</td>\n",
       "      <td>100.000000</td>\n",
       "      <td>Busta Rhymes</td>\n",
       "    </tr>\n",
       "    <tr>\n",
       "      <th>3</th>\n",
       "      <td>1023876</td>\n",
       "      <td>87.759499</td>\n",
       "      <td>Seal</td>\n",
       "    </tr>\n",
       "    <tr>\n",
       "      <th>4</th>\n",
       "      <td>1023356</td>\n",
       "      <td>87.101301</td>\n",
       "      <td>Sade</td>\n",
       "    </tr>\n",
       "    <tr>\n",
       "      <th>5</th>\n",
       "      <td>1028153</td>\n",
       "      <td>83.977972</td>\n",
       "      <td>Stevie Ray Vaughan</td>\n",
       "    </tr>\n",
       "    <tr>\n",
       "      <th>6</th>\n",
       "      <td>1024951</td>\n",
       "      <td>80.130625</td>\n",
       "      <td>The Smiths</td>\n",
       "    </tr>\n",
       "    <tr>\n",
       "      <th>7</th>\n",
       "      <td>1015851</td>\n",
       "      <td>78.132867</td>\n",
       "      <td>Lonestar</td>\n",
       "    </tr>\n",
       "    <tr>\n",
       "      <th>8</th>\n",
       "      <td>1010065</td>\n",
       "      <td>76.609026</td>\n",
       "      <td>Marvin Gaye</td>\n",
       "    </tr>\n",
       "    <tr>\n",
       "      <th>9</th>\n",
       "      <td>1009850</td>\n",
       "      <td>76.602437</td>\n",
       "      <td>Peter Gabriel</td>\n",
       "    </tr>\n",
       "  </tbody>\n",
       "</table>\n",
       "</div>"
      ],
      "text/plain": [
       "   artist_id           0         artist_name\n",
       "0    1021300  100.000000          The Police\n",
       "1    1020036  100.000000             Orbital\n",
       "2    1004095  100.000000        Busta Rhymes\n",
       "3    1023876   87.759499                Seal\n",
       "4    1023356   87.101301                Sade\n",
       "5    1028153   83.977972  Stevie Ray Vaughan\n",
       "6    1024951   80.130625          The Smiths\n",
       "7    1015851   78.132867            Lonestar\n",
       "8    1010065   76.609026         Marvin Gaye\n",
       "9    1009850   76.602437       Peter Gabriel"
      ]
     },
     "execution_count": 28,
     "metadata": {},
     "output_type": "execute_result"
    }
   ],
   "source": [
    "user_recs.reset_index(inplace=True)\n",
    "user_recs.rename(columns={'index': 'artist_id'}, inplace=True)\n",
    "user_recs.merge(df_lookup, on='artist_id', how='inner')"
   ]
  },
  {
   "cell_type": "markdown",
   "metadata": {},
   "source": [
    "On note avec cet algorithme une personnalisation des recommendations bien plus précise.                     \n",
    "Il est également possible d'avoir accès à de nombreaux attributs de l'algorithme tels que les vecteurs **User** et **Item** afin de rajouter de nouveaux items/users.\n",
    "\n",
    "De nombreaux hyperparamètres sont modifiables et peuvent avoir un fort impact sur la précision du système :\n",
    "- Le nombre de facteurs latents, plus il y en a, plus le système aura tendance a overfit le training set.\n",
    "- Le taux d'apprentissage et le paramètre de régularisation qui peuvent chacun permettre une meilleure généralisation.\n",
    "\n",
    "Néanmoins cette librairie permet un apprentissage extrêmement rapide et avec une bonne scalabilité (10x plus rapide que surprise par exemple)\n"
   ]
  },
  {
   "cell_type": "markdown",
   "metadata": {},
   "source": [
    "## Bayesian Personnalized Ranking "
   ]
  },
  {
   "cell_type": "code",
   "execution_count": 29,
   "metadata": {},
   "outputs": [
    {
     "name": "stdout",
     "output_type": "stream",
     "text": [
      "WARNING:tensorflow:From C:\\Users\\Lenovo\\Anaconda3\\envs\\reco\\lib\\site-packages\\tensorflow_core\\python\\compat\\v2_compat.py:65: disable_resource_variables (from tensorflow.python.ops.variable_scope) is deprecated and will be removed in a future version.\n",
      "Instructions for updating:\n",
      "non-resource variables are not supported in the long term\n",
      "Data Sparsity : 47.39608 %\n"
     ]
    }
   ],
   "source": [
    "from BPR import BPRRecommender\n",
    "\n",
    "recsys_bpr = BPRRecommender(train_df, itemCol='artist_id')"
   ]
  },
  {
   "cell_type": "code",
   "execution_count": 55,
   "metadata": {},
   "outputs": [],
   "source": [
    "hyperparams = {\n",
    "    'num_factors': 64,\n",
    "    'lambda_user': 1e-6,\n",
    "    'lambda_item': 1e-6,\n",
    "    'lambda_bias': 1e-6,\n",
    "    'learning_rate': 0.002\n",
    "}"
   ]
  },
  {
   "cell_type": "code",
   "execution_count": 56,
   "metadata": {},
   "outputs": [],
   "source": [
    "recsys_bpr.set_hyperparameters(**hyperparams)"
   ]
  },
  {
   "cell_type": "code",
   "execution_count": 57,
   "metadata": {},
   "outputs": [],
   "source": [
    "recsys_bpr.build_graph()"
   ]
  },
  {
   "cell_type": "code",
   "execution_count": 60,
   "metadata": {},
   "outputs": [
    {
     "name": "stdout",
     "output_type": "stream",
     "text": [
      "Epoch 0 : Loss: 0.786 | AUC: 0.520\n",
      " Epoch 1 : Loss: 0.795 | AUC: 0.504\n",
      " Epoch 2 : Loss: 0.767 | AUC: 0.504\n",
      " Epoch 3 : Loss: 0.731 | AUC: 0.512\n",
      " Epoch 4 : Loss: 0.725 | AUC: 0.540\n",
      " Epoch 5 : Loss: 0.695 | AUC: 0.562\n",
      " Epoch 6 : Loss: 0.683 | AUC: 0.578\n",
      " Epoch 7 : Loss: 0.684 | AUC: 0.560\n",
      " Epoch 8 : Loss: 0.688 | AUC: 0.548\n",
      " Epoch 9 : Loss: 0.683 | AUC: 0.552\n",
      " Epoch 10 : Loss: 0.667 | AUC: 0.594\n",
      " Epoch 11 : Loss: 0.662 | AUC: 0.574\n",
      " Epoch 12 : Loss: 0.651 | AUC: 0.612\n",
      " Epoch 13 : Loss: 0.669 | AUC: 0.604\n",
      " Epoch 14 : Loss: 0.655 | AUC: 0.590\n",
      " Epoch 15 : Loss: 0.662 | AUC: 0.610\n",
      " Epoch 16 : Loss: 0.658 | AUC: 0.598\n",
      " Epoch 17 : Loss: 0.671 | AUC: 0.578\n",
      " Epoch 18 : Loss: 0.653 | AUC: 0.614\n",
      " Epoch 19 : Loss: 0.660 | AUC: 0.610\n",
      " Epoch 20 : Loss: 0.646 | AUC: 0.606\n",
      " Epoch 21 : Loss: 0.658 | AUC: 0.566\n",
      " Epoch 22 : Loss: 0.675 | AUC: 0.608\n",
      " Epoch 23 : Loss: 0.653 | AUC: 0.592\n",
      " Epoch 24 : Loss: 0.656 | AUC: 0.580\n",
      " Epoch 25 : Loss: 0.648 | AUC: 0.628\n",
      " Epoch 26 : Loss: 0.652 | AUC: 0.604\n",
      " Epoch 27 : Loss: 0.642 | AUC: 0.600\n",
      " Epoch 28 : Loss: 0.647 | AUC: 0.616\n",
      " Epoch 29 : Loss: 0.648 | AUC: 0.600\n",
      " Epoch 30 : Loss: 0.629 | AUC: 0.624\n",
      " Epoch 31 : Loss: 0.637 | AUC: 0.632\n",
      " Epoch 32 : Loss: 0.644 | AUC: 0.604\n",
      " Epoch 33 : Loss: 0.627 | AUC: 0.624\n",
      " Epoch 34 : Loss: 0.638 | AUC: 0.598\n",
      " Epoch 35 : Loss: 0.637 | AUC: 0.620\n",
      " Epoch 36 : Loss: 0.619 | AUC: 0.644\n",
      " Epoch 37 : Loss: 0.620 | AUC: 0.640\n",
      " Epoch 38 : Loss: 0.647 | AUC: 0.608\n",
      " Epoch 39 : Loss: 0.628 | AUC: 0.596\n",
      " Epoch 40 : Loss: 0.641 | AUC: 0.598\n",
      " Epoch 41 : Loss: 0.651 | AUC: 0.596\n",
      " Epoch 42 : Loss: 0.644 | AUC: 0.602\n",
      " Epoch 43 : Loss: 0.658 | AUC: 0.570\n",
      " Epoch 44 : Loss: 0.608 | AUC: 0.632\n",
      " Epoch 45 : Loss: 0.621 | AUC: 0.636\n",
      " Epoch 46 : Loss: 0.647 | AUC: 0.588\n",
      " Epoch 47 : Loss: 0.624 | AUC: 0.648\n",
      " Epoch 48 : Loss: 0.634 | AUC: 0.634\n",
      " Epoch 49 : Loss: 0.650 | AUC: 0.610\n"
     ]
    }
   ],
   "source": [
    "epochs = 50\n",
    "batches = 100\n",
    "samples = 500\n",
    "\n",
    "recsys_bpr.train(epochs, batches, samples)"
   ]
  },
  {
   "cell_type": "code",
   "execution_count": 96,
   "metadata": {},
   "outputs": [],
   "source": [
    "df_lookup = pd.read_csv('../Datasets/dataset/ydata-ymusic-artist-names-v1_0.txt', sep='\\t',header=None, encoding=\"ISO-8859-1\", names=['artist_id', 'artist_name'])"
   ]
  },
  {
   "cell_type": "code",
   "execution_count": 97,
   "metadata": {},
   "outputs": [
    {
     "data": {
      "text/html": [
       "<div>\n",
       "<style scoped>\n",
       "    .dataframe tbody tr th:only-of-type {\n",
       "        vertical-align: middle;\n",
       "    }\n",
       "\n",
       "    .dataframe tbody tr th {\n",
       "        vertical-align: top;\n",
       "    }\n",
       "\n",
       "    .dataframe thead th {\n",
       "        text-align: right;\n",
       "    }\n",
       "</style>\n",
       "<table border=\"1\" class=\"dataframe\">\n",
       "  <thead>\n",
       "    <tr style=\"text-align: right;\">\n",
       "      <th></th>\n",
       "      <th>artist_id</th>\n",
       "      <th>item_name</th>\n",
       "    </tr>\n",
       "  </thead>\n",
       "  <tbody>\n",
       "    <tr>\n",
       "      <th>0</th>\n",
       "      <td>0</td>\n",
       "      <td>112</td>\n",
       "    </tr>\n",
       "    <tr>\n",
       "      <th>1</th>\n",
       "      <td>1</td>\n",
       "      <td>2Pac</td>\n",
       "    </tr>\n",
       "    <tr>\n",
       "      <th>2</th>\n",
       "      <td>2</td>\n",
       "      <td>311</td>\n",
       "    </tr>\n",
       "    <tr>\n",
       "      <th>3</th>\n",
       "      <td>3</td>\n",
       "      <td>A-Ha</td>\n",
       "    </tr>\n",
       "    <tr>\n",
       "      <th>4</th>\n",
       "      <td>4</td>\n",
       "      <td>A.F.I.</td>\n",
       "    </tr>\n",
       "  </tbody>\n",
       "</table>\n",
       "</div>"
      ],
      "text/plain": [
       "   artist_id item_name\n",
       "0          0       112\n",
       "1          1      2Pac\n",
       "2          2       311\n",
       "3          3      A-Ha\n",
       "4          4    A.F.I."
      ]
     },
     "execution_count": 97,
     "metadata": {},
     "output_type": "execute_result"
    }
   ],
   "source": [
    "df_lookup.rename(columns={\"artist_name\": 'item_name'}, inplace=True)\n",
    "df_lookup = df_lookup.iloc[2:]\n",
    "df_lookup = df_lookup[df_lookup.artist_id.isin(artists_pop)]\n",
    "df_lookup.reset_index(inplace=True)\n",
    "df_lookup = df_lookup[['item_name']]\n",
    "df_lookup.reset_index(inplace=True)\n",
    "df_lookup.rename(columns={\"index\": 'artist_id'}, inplace=True)\n",
    "df_lookup.head()"
   ]
  },
  {
   "cell_type": "code",
   "execution_count": 109,
   "metadata": {},
   "outputs": [
    {
     "data": {
      "text/html": [
       "<div>\n",
       "<style scoped>\n",
       "    .dataframe tbody tr th:only-of-type {\n",
       "        vertical-align: middle;\n",
       "    }\n",
       "\n",
       "    .dataframe tbody tr th {\n",
       "        vertical-align: top;\n",
       "    }\n",
       "\n",
       "    .dataframe thead th {\n",
       "        text-align: right;\n",
       "    }\n",
       "</style>\n",
       "<table border=\"1\" class=\"dataframe\">\n",
       "  <thead>\n",
       "    <tr style=\"text-align: right;\">\n",
       "      <th></th>\n",
       "      <th>item</th>\n",
       "      <th>score</th>\n",
       "    </tr>\n",
       "  </thead>\n",
       "  <tbody>\n",
       "    <tr>\n",
       "      <th>0</th>\n",
       "      <td>La Ley</td>\n",
       "      <td>1.579186</td>\n",
       "    </tr>\n",
       "    <tr>\n",
       "      <th>1</th>\n",
       "      <td>Led Zeppelin</td>\n",
       "      <td>1.517054</td>\n",
       "    </tr>\n",
       "    <tr>\n",
       "      <th>2</th>\n",
       "      <td>Saliva</td>\n",
       "      <td>1.487757</td>\n",
       "    </tr>\n",
       "    <tr>\n",
       "      <th>3</th>\n",
       "      <td>Pink Floyd</td>\n",
       "      <td>1.468446</td>\n",
       "    </tr>\n",
       "    <tr>\n",
       "      <th>4</th>\n",
       "      <td>Kirk Franklin</td>\n",
       "      <td>1.439833</td>\n",
       "    </tr>\n",
       "    <tr>\n",
       "      <th>5</th>\n",
       "      <td>Savage Garden</td>\n",
       "      <td>1.435377</td>\n",
       "    </tr>\n",
       "    <tr>\n",
       "      <th>6</th>\n",
       "      <td>Neil Young</td>\n",
       "      <td>1.428830</td>\n",
       "    </tr>\n",
       "    <tr>\n",
       "      <th>7</th>\n",
       "      <td>Godsmack</td>\n",
       "      <td>1.387676</td>\n",
       "    </tr>\n",
       "    <tr>\n",
       "      <th>8</th>\n",
       "      <td>Guns N' Roses</td>\n",
       "      <td>1.375337</td>\n",
       "    </tr>\n",
       "    <tr>\n",
       "      <th>9</th>\n",
       "      <td>Yes</td>\n",
       "      <td>1.372328</td>\n",
       "    </tr>\n",
       "  </tbody>\n",
       "</table>\n",
       "</div>"
      ],
      "text/plain": [
       "            item     score\n",
       "0         La Ley  1.579186\n",
       "1   Led Zeppelin  1.517054\n",
       "2         Saliva  1.487757\n",
       "3     Pink Floyd  1.468446\n",
       "4  Kirk Franklin  1.439833\n",
       "5  Savage Garden  1.435377\n",
       "6     Neil Young  1.428830\n",
       "7       Godsmack  1.387676\n",
       "8  Guns N' Roses  1.375337\n",
       "9            Yes  1.372328"
      ]
     },
     "execution_count": 109,
     "metadata": {},
     "output_type": "execute_result"
    }
   ],
   "source": [
    "recsys_bpr.find_similar_items(df_lookup, item='Queen')"
   ]
  },
  {
   "cell_type": "code",
   "execution_count": 1,
   "metadata": {},
   "outputs": [
    {
     "ename": "NameError",
     "evalue": "name 'recsys_bpr' is not defined",
     "output_type": "error",
     "traceback": [
      "\u001b[1;31m---------------------------------------------------------------------------\u001b[0m",
      "\u001b[1;31mNameError\u001b[0m                                 Traceback (most recent call last)",
      "\u001b[1;32m<ipython-input-1-b20fdbc1b0df>\u001b[0m in \u001b[0;36m<module>\u001b[1;34m\u001b[0m\n\u001b[1;32m----> 1\u001b[1;33m \u001b[0mrecsys_bpr\u001b[0m\u001b[1;33m.\u001b[0m\u001b[0mmake_recommendation\u001b[0m\u001b[1;33m(\u001b[0m\u001b[0mdf_lookup\u001b[0m\u001b[1;33m,\u001b[0m \u001b[0muser_id\u001b[0m\u001b[1;33m=\u001b[0m\u001b[1;36m1000\u001b[0m\u001b[1;33m)\u001b[0m\u001b[1;33m\u001b[0m\u001b[1;33m\u001b[0m\u001b[0m\n\u001b[0m",
      "\u001b[1;31mNameError\u001b[0m: name 'recsys_bpr' is not defined"
     ]
    }
   ],
   "source": [
    "recsys_bpr.make_recommendation(df_lookup, user_id=1000)"
   ]
  },
  {
   "cell_type": "markdown",
   "metadata": {},
   "source": [
    "## Neural Filtrage Collaboratif\n",
    "\n",
    "-> Voir Notebook NeuCF.ipynb pour une démonstration"
   ]
  },
  {
   "cell_type": "markdown",
   "metadata": {},
   "source": [
    "### Références"
   ]
  },
  {
   "cell_type": "markdown",
   "metadata": {},
   "source": [
    " + THE librairie pour aider dans la conception d'un système de recommendation : https://github.com/microsoft/recommenders/tree/master/reco_utils\n",
    " + La doc de la librairie **Surprise** de scikit : https://surprise.readthedocs.io/en/stable/\n",
    " + Une implémenation hyper rapide de l'algorithme FunkSVD : https://github.com/gbolmier/funk-svd\n",
    " + Librairie *Implicit* pour une implémentation rapide de filtrage collaboratif implicite : https://github.com/benfred/implicit\n"
   ]
  },
  {
   "cell_type": "code",
   "execution_count": null,
   "metadata": {},
   "outputs": [],
   "source": []
  }
 ],
 "metadata": {
  "kernelspec": {
   "display_name": "reco",
   "language": "python",
   "name": "reco"
  },
  "language_info": {
   "codemirror_mode": {
    "name": "ipython",
    "version": 3
   },
   "file_extension": ".py",
   "mimetype": "text/x-python",
   "name": "python",
   "nbconvert_exporter": "python",
   "pygments_lexer": "ipython3",
   "version": "3.7.5"
  },
  "toc-autonumbering": false,
  "toc-showcode": false,
  "toc-showmarkdowntxt": false,
  "toc-showtags": false
 },
 "nbformat": 4,
 "nbformat_minor": 4
}